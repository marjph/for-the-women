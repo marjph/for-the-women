{
  "nbformat": 4,
  "nbformat_minor": 0,
  "metadata": {
    "colab": {
      "name": "Song Lyrics Count.ipynb",
      "provenance": [],
      "include_colab_link": true
    },
    "kernelspec": {
      "name": "python3",
      "display_name": "Python 3"
    }
  },
  "cells": [
    {
      "cell_type": "markdown",
      "metadata": {
        "id": "view-in-github",
        "colab_type": "text"
      },
      "source": [
        "<a href=\"https://colab.research.google.com/github/marjph/for-the-women/blob/master/Song_Lyrics_Count.ipynb\" target=\"_parent\"><img src=\"https://colab.research.google.com/assets/colab-badge.svg\" alt=\"Open In Colab\"/></a>"
      ]
    },
    {
      "cell_type": "code",
      "metadata": {
        "id": "jilMvMeKm0q_",
        "colab_type": "code",
        "colab": {}
      },
      "source": [
        "song_lyrics = \"Twinkle twinkle little star How I wonder what you are Up above the world so high Like a diamond in the sky Twinkle twinkle little star How I wonder what you are When the blazing sun is gone When he nothing shines upon Then you show your little light Twinkle twinkle all the night Twinkle twinkle little star How I wonder what you are\""
      ],
      "execution_count": 0,
      "outputs": []
    },
    {
      "cell_type": "code",
      "metadata": {
        "id": "v4P4Fdzjm8df",
        "colab_type": "code",
        "colab": {}
      },
      "source": [
        "split_song = song_lyrics.split(' ')"
      ],
      "execution_count": 0,
      "outputs": []
    },
    {
      "cell_type": "code",
      "metadata": {
        "id": "U4o2yP4unKHH",
        "colab_type": "code",
        "colab": {
          "base_uri": "https://localhost:8080/",
          "height": 54
        },
        "outputId": "82e8bfb3-5566-44c4-f3f7-d3585c13dcc4"
      },
      "source": [
        "print(split_song)"
      ],
      "execution_count": 18,
      "outputs": [
        {
          "output_type": "stream",
          "text": [
            "['Twinkle', 'twinkle', 'little', 'star', 'How', 'I', 'wonder', 'what', 'you', 'are', 'Up', 'above', 'the', 'world', 'so', 'high', 'Like', 'a', 'diamond', 'in', 'the', 'sky', 'Twinkle', 'twinkle', 'little', 'star', 'How', 'I', 'wonder', 'what', 'you', 'are', 'When', 'the', 'blazing', 'sun', 'is', 'gone', 'When', 'he', 'nothing', 'shines', 'upon', 'Then', 'you', 'show', 'your', 'little', 'light', 'Twinkle', 'twinkle', 'all', 'the', 'night', 'Twinkle', 'twinkle', 'little', 'star', 'How', 'I', 'wonder', 'what', 'you', 'are']\n"
          ],
          "name": "stdout"
        }
      ]
    },
    {
      "cell_type": "code",
      "metadata": {
        "id": "8Zyg-sfFnS4J",
        "colab_type": "code",
        "colab": {
          "base_uri": "https://localhost:8080/",
          "height": 54
        },
        "outputId": "eae0f95e-16bf-4399-d4cb-423cccaed38e"
      },
      "source": [
        "unique_words = set(split_song)\n",
        "print(unique_words)"
      ],
      "execution_count": 19,
      "outputs": [
        {
          "output_type": "stream",
          "text": [
            "{'in', 'high', 'wonder', 'twinkle', 'light', 'a', 'upon', 'little', 'shines', 'Up', 'nothing', 'Like', 'When', 'Then', 'Twinkle', 'are', 'he', 'so', 'sky', 'above', 'How', 'is', 'blazing', 'star', 'sun', 'show', 'your', 'world', 'the', 'night', 'I', 'you', 'diamond', 'what', 'gone', 'all'}\n"
          ],
          "name": "stdout"
        }
      ]
    },
    {
      "cell_type": "code",
      "metadata": {
        "id": "H1wNKqR6nx2c",
        "colab_type": "code",
        "colab": {
          "base_uri": "https://localhost:8080/",
          "height": 54
        },
        "outputId": "74c6a853-b296-4d80-b42f-2e885f658850"
      },
      "source": [
        "word_dict = {}\n",
        "for word in unique_words:\n",
        "    word_dict[word] = 0\n",
        "print(word_dict)"
      ],
      "execution_count": 21,
      "outputs": [
        {
          "output_type": "stream",
          "text": [
            "{'in': 0, 'high': 0, 'wonder': 0, 'twinkle': 0, 'light': 0, 'a': 0, 'upon': 0, 'little': 0, 'shines': 0, 'Up': 0, 'nothing': 0, 'Like': 0, 'When': 0, 'Then': 0, 'Twinkle': 0, 'are': 0, 'he': 0, 'so': 0, 'sky': 0, 'above': 0, 'How': 0, 'is': 0, 'blazing': 0, 'star': 0, 'sun': 0, 'show': 0, 'your': 0, 'world': 0, 'the': 0, 'night': 0, 'I': 0, 'you': 0, 'diamond': 0, 'what': 0, 'gone': 0, 'all': 0}\n"
          ],
          "name": "stdout"
        }
      ]
    },
    {
      "cell_type": "code",
      "metadata": {
        "id": "x5zyuCC_p7zw",
        "colab_type": "code",
        "colab": {
          "base_uri": "https://localhost:8080/",
          "height": 54
        },
        "outputId": "8df2e9bf-0aac-428a-bf99-20f6547049b1"
      },
      "source": [
        "for word in split_song:\n",
        "    word_dict[word] = word_dict[word] + 1\n",
        "print(word_dict)"
      ],
      "execution_count": 22,
      "outputs": [
        {
          "output_type": "stream",
          "text": [
            "{'in': 1, 'high': 1, 'wonder': 3, 'twinkle': 4, 'light': 1, 'a': 1, 'upon': 1, 'little': 4, 'shines': 1, 'Up': 1, 'nothing': 1, 'Like': 1, 'When': 2, 'Then': 1, 'Twinkle': 4, 'are': 3, 'he': 1, 'so': 1, 'sky': 1, 'above': 1, 'How': 3, 'is': 1, 'blazing': 1, 'star': 3, 'sun': 1, 'show': 1, 'your': 1, 'world': 1, 'the': 4, 'night': 1, 'I': 3, 'you': 4, 'diamond': 1, 'what': 3, 'gone': 1, 'all': 1}\n"
          ],
          "name": "stdout"
        }
      ]
    },
    {
      "cell_type": "code",
      "metadata": {
        "id": "6EkQO5DCsLry",
        "colab_type": "code",
        "colab": {
          "base_uri": "https://localhost:8080/",
          "height": 54
        },
        "outputId": "9f846366-00d5-4e8d-b630-b63d0747ff33"
      },
      "source": [
        "sort_dict = sorted(word_dict.items(),key = lambda t: t[1], reverse =True)\n",
        "print(sort_dict)"
      ],
      "execution_count": 23,
      "outputs": [
        {
          "output_type": "stream",
          "text": [
            "[('twinkle', 4), ('little', 4), ('Twinkle', 4), ('the', 4), ('you', 4), ('wonder', 3), ('are', 3), ('How', 3), ('star', 3), ('I', 3), ('what', 3), ('When', 2), ('in', 1), ('high', 1), ('light', 1), ('a', 1), ('upon', 1), ('shines', 1), ('Up', 1), ('nothing', 1), ('Like', 1), ('Then', 1), ('he', 1), ('so', 1), ('sky', 1), ('above', 1), ('is', 1), ('blazing', 1), ('sun', 1), ('show', 1), ('your', 1), ('world', 1), ('night', 1), ('diamond', 1), ('gone', 1), ('all', 1)]\n"
          ],
          "name": "stdout"
        }
      ]
    },
    {
      "cell_type": "code",
      "metadata": {
        "id": "0A0kHXy4sUEP",
        "colab_type": "code",
        "colab": {}
      },
      "source": [
        ""
      ],
      "execution_count": 0,
      "outputs": []
    }
  ]
}